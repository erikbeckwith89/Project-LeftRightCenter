{
 "cells": [
  {
   "cell_type": "code",
   "execution_count": 11,
   "metadata": {},
   "outputs": [],
   "source": [
    "import numpy as np\n",
    "import pandas as pd\n",
    "from sklearn import tree\n",
    "import matplotlib.pyplot as plt\n",
    "pd.set_option('display.max_columns', 500)"
   ]
  },
  {
   "cell_type": "code",
   "execution_count": 48,
   "metadata": {},
   "outputs": [
    {
     "data": {
      "text/plain": [
       "['achieve',\n",
       " 'adj',\n",
       " 'adverb',\n",
       " 'affect',\n",
       " 'affiliation',\n",
       " 'anger',\n",
       " 'anx',\n",
       " 'article',\n",
       " 'assent',\n",
       " 'auxverb',\n",
       " 'bio',\n",
       " 'body',\n",
       " 'cause',\n",
       " 'certain',\n",
       " 'cogproc',\n",
       " 'compare',\n",
       " 'conj',\n",
       " 'death',\n",
       " 'differ',\n",
       " 'discrep',\n",
       " 'drives',\n",
       " 'family',\n",
       " 'feel',\n",
       " 'female',\n",
       " 'filler',\n",
       " 'focusfuture',\n",
       " 'focuspast',\n",
       " 'focuspresent',\n",
       " 'friend',\n",
       " 'function',\n",
       " 'health',\n",
       " 'hear',\n",
       " 'home',\n",
       " 'i',\n",
       " 'informal',\n",
       " 'ingest',\n",
       " 'insight',\n",
       " 'interrog',\n",
       " 'ipron',\n",
       " 'leisure',\n",
       " 'male',\n",
       " 'money',\n",
       " 'motion',\n",
       " 'negate',\n",
       " 'negemo',\n",
       " 'netspeak',\n",
       " 'nonflu',\n",
       " 'number',\n",
       " 'percept',\n",
       " 'posemo',\n",
       " 'power',\n",
       " 'ppron',\n",
       " 'prep',\n",
       " 'pronoun',\n",
       " 'quant',\n",
       " 'relativ',\n",
       " 'relig',\n",
       " 'reward',\n",
       " 'risk',\n",
       " 'sad',\n",
       " 'see',\n",
       " 'sexual',\n",
       " 'shehe',\n",
       " 'social',\n",
       " 'space',\n",
       " 'swear',\n",
       " 'tentat',\n",
       " 'they',\n",
       " 'time',\n",
       " 'verb',\n",
       " 'we',\n",
       " 'work',\n",
       " 'you']"
      ]
     },
     "execution_count": 48,
     "metadata": {},
     "output_type": "execute_result"
    }
   ],
   "source": [
    "df = pd.read_csv('data/liwc_categorical_scores_full.csv') \n",
    "X = df[ ['achieve','adj', 'adverb', 'affect', 'affiliation', 'anger', 'anx', 'article', 'assent', 'auxverb', 'bio', 'body', 'cause','certain', 'cogproc', 'compare', 'conj', 'death', 'differ', 'discrep', 'drives', 'family','feel', 'female', 'filler', 'focusfuture', 'focuspast', 'focuspresent','friend', 'function', 'health', 'hear', 'home', 'i', 'informal', 'ingest', 'insight', 'interrog', 'ipron','leisure', 'male', 'money', 'motion', 'negate', 'negemo', 'netspeak', 'nonflu', 'number', 'percept', 'posemo', 'power','ppron', 'prep', 'pronoun', 'quant', 'relativ', 'relig','reward', 'risk', 'sad', 'see','sexual', 'shehe', 'social', 'space', 'swear', 'tentat', 'they', 'time', 'verb', 'we','work', 'you']]\n",
    "feature_names = X.columns\n",
    "y = df['party']\n",
    "list(X)"
   ]
  },
  {
   "cell_type": "code",
   "execution_count": 49,
   "metadata": {},
   "outputs": [],
   "source": [
    "from sklearn.model_selection import train_test_split\n",
    "X_train, X_test, y_train, y_test = train_test_split(X, y, random_state=42)"
   ]
  },
  {
   "cell_type": "code",
   "execution_count": 50,
   "metadata": {},
   "outputs": [
    {
     "data": {
      "text/plain": [
       "0.7215909090909091"
      ]
     },
     "execution_count": 50,
     "metadata": {},
     "output_type": "execute_result"
    }
   ],
   "source": [
    "clf = tree.DecisionTreeClassifier()\n",
    "clf = clf.fit(X_train, y_train)\n",
    "clf.score(X_test, y_test)"
   ]
  },
  {
   "cell_type": "code",
   "execution_count": 51,
   "metadata": {},
   "outputs": [
    {
     "data": {
      "text/plain": [
       "0.8068181818181818"
      ]
     },
     "execution_count": 51,
     "metadata": {},
     "output_type": "execute_result"
    }
   ],
   "source": [
    "from sklearn.ensemble import RandomForestClassifier\n",
    "rf = RandomForestClassifier(n_estimators=200)\n",
    "rf = rf.fit(X_train, y_train)\n",
    "rf.score(X_test, y_test)"
   ]
  },
  {
   "cell_type": "code",
   "execution_count": 52,
   "metadata": {},
   "outputs": [
    {
     "data": {
      "text/plain": [
       "[(0.05785640458629114, 'discrep'),\n",
       " (0.052838873528034, 'differ'),\n",
       " (0.04610231634723385, 'anger'),\n",
       " (0.044352217302925954, 'cogproc'),\n",
       " (0.042877231756644346, 'negate'),\n",
       " (0.04229806314507138, 'negemo'),\n",
       " (0.02703043931780699, 'posemo'),\n",
       " (0.02681747358439276, 'relig'),\n",
       " (0.02582384792380224, 'female'),\n",
       " (0.02312575795246543, 'anx'),\n",
       " (0.021930427845966518, 'certain'),\n",
       " (0.017655867618597207, 'bio'),\n",
       " (0.015781054835551027, 'verb'),\n",
       " (0.014687971265028103, 'social'),\n",
       " (0.013760053290459017, 'health'),\n",
       " (0.013405176245804135, 'reward'),\n",
       " (0.01339358995365759, 'relativ'),\n",
       " (0.01322555067422247, 'space'),\n",
       " (0.013055773650940699, 'hear'),\n",
       " (0.012810889314753588, 'risk'),\n",
       " (0.012620969808372294, 'auxverb'),\n",
       " (0.012440932590321047, 'article'),\n",
       " (0.011970046838556242, 'leisure'),\n",
       " (0.01185687371005985, 'focuspresent'),\n",
       " (0.011539106344782904, 'work'),\n",
       " (0.010846751875110023, 'motion'),\n",
       " (0.010549970011954094, 'sad'),\n",
       " (0.010443200467449074, 'function'),\n",
       " (0.010378744373920817, 'focuspast'),\n",
       " (0.010369890039508197, 'affect'),\n",
       " (0.01023019448331168, 'family'),\n",
       " (0.010056840230717866, 'i'),\n",
       " (0.00988648461852201, 'drives'),\n",
       " (0.009742749853336462, 'money'),\n",
       " (0.009702744394224189, 'ipron'),\n",
       " (0.00960951126621026, 'affiliation'),\n",
       " (0.009584024480956098, 'they'),\n",
       " (0.00952535083195158, 'shehe'),\n",
       " (0.00945135270928668, 'tentat'),\n",
       " (0.00929734756975213, 'feel'),\n",
       " (0.00920716318098405, 'conj'),\n",
       " (0.008992385829893512, 'focusfuture'),\n",
       " (0.008991989691405251, 'achieve'),\n",
       " (0.008965044606400793, 'pronoun'),\n",
       " (0.008938415150266934, 'percept'),\n",
       " (0.008834190972767348, 'see'),\n",
       " (0.008827689676502073, 'adverb'),\n",
       " (0.008703574486965373, 'time'),\n",
       " (0.008675140467288836, 'body'),\n",
       " (0.008617364196133164, 'compare'),\n",
       " (0.008609721200443576, 'power'),\n",
       " (0.008596098632856127, 'home'),\n",
       " (0.008585487764866333, 'ingest'),\n",
       " (0.008481809893205907, 'prep'),\n",
       " (0.008441405797619572, 'cause'),\n",
       " (0.008355825779471358, 'you'),\n",
       " (0.008342963468111902, 'informal'),\n",
       " (0.008204210063287273, 'adj'),\n",
       " (0.00819373244809803, 'male'),\n",
       " (0.00803726140091915, 'insight'),\n",
       " (0.007999508254661848, 'ppron'),\n",
       " (0.007954624060919848, 'number'),\n",
       " (0.007950538138439442, 'interrog'),\n",
       " (0.007782472981524133, 'we'),\n",
       " (0.007614270792431142, 'friend'),\n",
       " (0.007541114220495908, 'quant'),\n",
       " (0.007051932680350005, 'death'),\n",
       " (0.0060758679907602685, 'netspeak'),\n",
       " (0.005782852906238442, 'nonflu'),\n",
       " (0.0056886321141172, 'assent'),\n",
       " (0.004371198409179592, 'sexual'),\n",
       " (0.002400528480580416, 'swear'),\n",
       " (0.0002529176248633112, 'filler')]"
      ]
     },
     "execution_count": 52,
     "metadata": {},
     "output_type": "execute_result"
    }
   ],
   "source": [
    "sorted(zip(rf.feature_importances_, feature_names), reverse=True)"
   ]
  },
  {
   "cell_type": "code",
   "execution_count": null,
   "metadata": {},
   "outputs": [],
   "source": []
  }
 ],
 "metadata": {
  "kernelspec": {
   "display_name": "Python 3",
   "language": "python",
   "name": "python3"
  },
  "language_info": {
   "codemirror_mode": {
    "name": "ipython",
    "version": 3
   },
   "file_extension": ".py",
   "mimetype": "text/x-python",
   "name": "python",
   "nbconvert_exporter": "python",
   "pygments_lexer": "ipython3",
   "version": "3.6.5"
  }
 },
 "nbformat": 4,
 "nbformat_minor": 2
}
