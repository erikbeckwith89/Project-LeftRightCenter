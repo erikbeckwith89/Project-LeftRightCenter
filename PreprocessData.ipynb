{
 "cells": [
  {
   "cell_type": "code",
   "execution_count": 5,
   "metadata": {},
   "outputs": [],
   "source": [
    "import pandas as pd\n",
    "import re\n"
   ]
  },
  {
   "cell_type": "code",
   "execution_count": 2,
   "metadata": {},
   "outputs": [],
   "source": [
    "df1 = pd.read_csv('raw_dems_8accounts.csv')\n",
    "df2 = pd.read_csv('raw_gop_8accounts.csv')\n",
    "\n",
    "df1 = df1.drop(columns=['Unnamed: 0'])\n",
    "df2 = df2.drop(columns=['Unnamed: 0'])\n"
   ]
  },
  {
   "cell_type": "code",
   "execution_count": 3,
   "metadata": {},
   "outputs": [],
   "source": [
    "df = pd.concat([df1,df2])"
   ]
  },
  {
   "cell_type": "code",
   "execution_count": 13,
   "metadata": {},
   "outputs": [
    {
     "data": {
      "text/plain": [
       "0       And Episode 2 covers immigration just in time ...\n",
       "1       ICYMI heres Pres Trump taking credit for Trump...\n",
       "2       .Telemundo31 covers our Rock and Politics show...\n",
       "3       Just in time for TrumpShutdown heres Ep. 2 of ...\n",
       "4        feedhopenow The ink on the Farm Bill was stil...\n",
       "5        digitalassetbuy Hi WarrenDavidson and RepDarr...\n",
       "6       If TrumpShutdown occurs then 10516 Floridians ...\n",
       "7       Trumps impulsive illplanned SyriaWithdrawal an...\n",
       "8       Americas criminal justice system is in despera...\n",
       "9        NormaJTorres As we mourn the death of Jakelin...\n",
       "10       DigitalChamber Congressional Blockchain Caucu...\n",
       "11       rleshner Major kudos to reps WarrenDavidson a...\n",
       "12       BlockchainAssn Why BlockchainAssn supports ne...\n",
       "13       BlockchainAssn Thanks WarrenDavidson and RepD...\n",
       "14      Restoration of Rights Amendment is clear on it...\n",
       "15      Time for USFWS to do the right thing and prote...\n",
       "16      Proud to be at CityofLakeWales to honor Mayor ...\n",
       "17       CityofLakeWales RepDarrenSoto presents a pin ...\n",
       "18       CityofLakeWales RepDarrenSoto reported on tri...\n",
       "19      Great sign of progress for smartjustice moveme...\n",
       "20      Just a reminder 1 Republican Attorney Generals...\n",
       "21      Proud to recognize over a dozen Vietnam Vetera...\n",
       "22      TorresBruno family came to US legally seeking ...\n",
       "23      Interior Sec Zinke resigns after leading charg...\n",
       "24      Heres my new Rock and Politics radio show Also...\n",
       "25      Check out orlpolitics article Rep. Soto Passes...\n",
       "26       thebeatdc Congressmen Darren Soto RepDarrenSo...\n",
       "27      Congrats to recent valenciacollege grads of th...\n",
       "28       NationalOrganic FarmBill has language directi...\n",
       "29       feedhopenow Thank you repdarrensoto for stand...\n",
       "                              ...                        \n",
       "3967     Transport HR4 isnt all about aviation. It als...\n",
       "3968     SpeakerRyan Updates to our countrys infrastru...\n",
       "3969    This Administration and Congress remain steadf...\n",
       "3970    The streak continues Congrats repstevewomack o...\n",
       "3971     statedeptspox Mike Pompeo has been sworn in t...\n",
       "3972     SecretaryAcosta Manufacturing is coming back ...\n",
       "3973    The number of Americans applying for unemploym...\n",
       "3974     WSJecon The share of Americans expecting thei...\n",
       "3975     RepJeffDenham Of course as nice as it is that...\n",
       "3976    Consumer confidence rebounds close to 18year h...\n",
       "3977     RepSeanDuffy TaxReform is doing wonders for o...\n",
       "3978     MikeKellyPA Glad to help ErieInsurance celebr...\n",
       "3979     RepDonBacon More good news following passage ...\n",
       "3980     RepRatcliffe Savings from the taxcutsandjobsa...\n",
       "3981    This bill will create a more innovative and tr...\n",
       "3982    By modernizing the regulations governing disas...\n",
       "3983    Continued prayers for GeorgeHWBush and the ent...\n",
       "3984    As a matter of principle global security agree...\n",
       "3985     RepMimiWalters We introduced FOSTA because it...\n",
       "3986     RepBrianMast Bipartisan bills we passed this ...\n",
       "3987     RepKevinYoder I was an early supporter of thi...\n",
       "3988     RepDavidYoung The House passed my bill the Ju...\n",
       "3989     RepRodBlum Big win for Iowans alliantenergy t...\n",
       "3990     ChronOpinion President Trump made infrastruct...\n",
       "3991     FoxBusiness .GOPLeader on rescission Its our ...\n",
       "3992     FreeBeacon .GOPLeader Blasts Democrats Opposi...\n",
       "3993    Its time for Democrats to stop playing politic...\n",
       "3994     DrPhilRoe Did you know thanks to tax reform 4...\n",
       "3995     KeithRothfus PASSED An overwhelmingly biparti...\n",
       "3996     RepCurbelo OpportunityZones are a major compo...\n",
       "Name: full_text_formmated, Length: 7996, dtype: object"
      ]
     },
     "execution_count": 13,
     "metadata": {},
     "output_type": "execute_result"
    }
   ],
   "source": [
    "df['full_text_formmated']\n"
   ]
  },
  {
   "cell_type": "code",
   "execution_count": 10,
   "metadata": {},
   "outputs": [],
   "source": [
    "def cleanText(x):\n",
    "    x = x.replace('RT','')\n",
    "    x = re.sub('[^a-zA-Z0-9 \\n\\.]', '', x)\n",
    "    x = re.sub(r'http\\S+', '', x)\n",
    "    x = re.sub(r'\\w+:\\s?', '', x)\n",
    "    return x\n"
   ]
  },
  {
   "cell_type": "code",
   "execution_count": 11,
   "metadata": {},
   "outputs": [],
   "source": [
    "df['full_text_formmated'] = df['full_text'].apply(cleanText)"
   ]
  },
  {
   "cell_type": "code",
   "execution_count": 15,
   "metadata": {},
   "outputs": [
    {
     "data": {
      "text/plain": [
       "'RT @#Rock, #Politics, and #Leanring!\\uf8ffü§ì'"
      ]
     },
     "execution_count": 15,
     "metadata": {},
     "output_type": "execute_result"
    }
   ],
   "source": [
    "test = 'RT @brianna_edu: #Rock, #Politics, and #Leanring!ü§ì'\n",
    "\n",
    "#re.compile('(www|http)\\S+')\n",
    "\n",
    "formatted = re.sub(r'\\w+:\\s?', '', test)\n",
    "#formatted  = re.sub('[^a-zA-Z0-9 \\n\\.]', '', test)\n",
    "\n",
    "formatted\n"
   ]
  },
  {
   "cell_type": "code",
   "execution_count": null,
   "metadata": {},
   "outputs": [],
   "source": []
  }
 ],
 "metadata": {
  "kernelspec": {
   "display_name": "Python 3",
   "language": "python",
   "name": "python3"
  },
  "language_info": {
   "codemirror_mode": {
    "name": "ipython",
    "version": 3
   },
   "file_extension": ".py",
   "mimetype": "text/x-python",
   "name": "python",
   "nbconvert_exporter": "python",
   "pygments_lexer": "ipython3",
   "version": "3.6.5"
  }
 },
 "nbformat": 4,
 "nbformat_minor": 2
}
