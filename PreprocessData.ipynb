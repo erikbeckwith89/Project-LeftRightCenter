{
 "cells": [
  {
   "cell_type": "code",
   "execution_count": 1,
   "metadata": {},
   "outputs": [],
   "source": [
    "import pandas as pd\n",
    "import re\n"
   ]
  },
  {
   "cell_type": "code",
   "execution_count": 2,
   "metadata": {},
   "outputs": [],
   "source": [
    "df1 = pd.read_csv('data/raw_dems_8accounts.csv')\n",
    "df2 = pd.read_csv('data/raw_gop_8accounts.csv')\n",
    "\n",
    "df1 = df1.drop(columns=['Unnamed: 0'])\n",
    "df2 = df2.drop(columns=['Unnamed: 0'])\n"
   ]
  },
  {
   "cell_type": "code",
   "execution_count": 3,
   "metadata": {},
   "outputs": [],
   "source": [
    "df = pd.concat([df1,df2])"
   ]
  },
  {
   "cell_type": "code",
   "execution_count": 4,
   "metadata": {},
   "outputs": [],
   "source": [
    "def cleanText(x):\n",
    "    x = x.replace('RT','')\n",
    "    x = x.replace(' .','.')\n",
    "    x = x.replace('. ','.')\n",
    "    x = re.sub('[^a-zA-Z0-9 \\n\\.]', '', x)\n",
    "    x = re.sub(r'http\\S+', '', x)\n",
    "    x = re.sub(r'\\w+:\\s?', '', x)\n",
    "    return x\n"
   ]
  },
  {
   "cell_type": "code",
   "execution_count": 5,
   "metadata": {},
   "outputs": [],
   "source": [
    "df['full_text_formatted'] = df['full_text'].apply(cleanText)\n"
   ]
  },
  {
   "cell_type": "code",
   "execution_count": 6,
   "metadata": {},
   "outputs": [],
   "source": [
    "df_subset = df[['party','screen_name','full_text_formatted']]\n"
   ]
  },
  {
   "cell_type": "code",
   "execution_count": 7,
   "metadata": {},
   "outputs": [
    {
     "ename": "SyntaxError",
     "evalue": "invalid syntax (<ipython-input-7-677aba8f4d84>, line 6)",
     "output_type": "error",
     "traceback": [
      "\u001b[0;36m  File \u001b[0;32m\"<ipython-input-7-677aba8f4d84>\"\u001b[0;36m, line \u001b[0;32m6\u001b[0m\n\u001b[0;31m    data[]\u001b[0m\n\u001b[0m         ^\u001b[0m\n\u001b[0;31mSyntaxError\u001b[0m\u001b[0;31m:\u001b[0m invalid syntax\n"
     ]
    }
   ],
   "source": [
    "dataList = []\n",
    "for i in range(0, len(df_subset)-1):\n",
    "    data = {}\n",
    "    \n",
    "    data['party'] = df_subset[i,0]\n",
    "    data[]\n",
    "    "
   ]
  },
  {
   "cell_type": "code",
   "execution_count": 8,
   "metadata": {},
   "outputs": [],
   "source": [
    "name = df_subset['screen_name'].unique()\n",
    "dataList = []\n",
    "step = 20\n",
    "\n",
    "for n in name:\n",
    "    \n",
    "    df_temp =  df_subset.loc[df_subset['screen_name'] == n]\n",
    "    counter = 0\n",
    "    tempCounter = 0\n",
    "    data = {}\n",
    "    for i in range(0,len(df_temp)-1):\n",
    "        \n",
    "\n",
    "        if tempCounter <= step:\n",
    "            data['key'] = n + str(counter)\n",
    "            data['party'] = df_temp.iloc[i,0]\n",
    "            if 'text' not in data:\n",
    "                data['text'] = ''\n",
    "            data['text'] = data['text'] + df_temp.iloc[i,2] + '.'\n",
    "            tempCounter = tempCounter +1\n",
    "        else:\n",
    "            dataList.append(data)\n",
    "            data = {}\n",
    "            tempCounter = 0\n",
    "            counter = counter + 1\n",
    "        \n",
    "        \n",
    "\n"
   ]
  },
  {
   "cell_type": "code",
   "execution_count": 9,
   "metadata": {},
   "outputs": [
    {
     "data": {
      "text/plain": [
       "353"
      ]
     },
     "execution_count": 9,
     "metadata": {},
     "output_type": "execute_result"
    }
   ],
   "source": [
    "len(dataList)\n",
    "\n",
    "\n"
   ]
  },
  {
   "cell_type": "code",
   "execution_count": 10,
   "metadata": {},
   "outputs": [],
   "source": [
    "pd.DataFrame(dataList).to_csv('compact_tweets.csv')"
   ]
  },
  {
   "cell_type": "code",
   "execution_count": 11,
   "metadata": {},
   "outputs": [],
   "source": [
    "text = ''\n",
    "for t in df['full_text_formatted']:\n",
    "    text = text + t+'.'\n"
   ]
  },
  {
   "cell_type": "code",
   "execution_count": null,
   "metadata": {},
   "outputs": [],
   "source": []
  }
 ],
 "metadata": {
  "kernelspec": {
   "display_name": "Python 3",
   "language": "python",
   "name": "python3"
  },
  "language_info": {
   "codemirror_mode": {
    "name": "ipython",
    "version": 3
   },
   "file_extension": ".py",
   "mimetype": "text/x-python",
   "name": "python",
   "nbconvert_exporter": "python",
   "pygments_lexer": "ipython3",
   "version": "3.6.5"
  }
 },
 "nbformat": 4,
 "nbformat_minor": 2
}
