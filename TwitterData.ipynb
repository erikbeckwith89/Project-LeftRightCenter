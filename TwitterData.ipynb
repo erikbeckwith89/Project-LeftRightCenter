{
 "cells": [
  {
   "cell_type": "code",
   "execution_count": 1,
   "metadata": {},
   "outputs": [],
   "source": [
    "import tweepy\n",
    "import json\n",
    "import numpy as np\n",
    "from datetime import datetime\n",
    "import matplotlib.pyplot as plt\n",
    "from config import consumer_key, consumer_secret, access_token, access_token_secret\n",
    "\n",
    "\n",
    "# Setup Tweepy API Authentication\n",
    "auth = tweepy.OAuthHandler(consumer_key, consumer_secret)\n",
    "auth.set_access_token(access_token, access_token_secret)\n",
    "api = tweepy.API(auth, parser=tweepy.parsers.JSONParser())"
   ]
  },
  {
   "cell_type": "code",
   "execution_count": 13,
   "metadata": {},
   "outputs": [],
   "source": [
    "def getaccounts(party, listname,size):\n",
    "    pages = []\n",
    "\n",
    "    #for page in tweepy.Cursor(api.list_members, 'TheDemocrats', 'house-democrats').pages(12):\n",
    "    for page in tweepy.Cursor(api.list_members, party, listname).pages(size):\n",
    "        pages.append(page)\n",
    "    \n",
    "    accounts = []\n",
    "    for x in range(0,len(pages)-1):\n",
    "\n",
    "        for mems in pages[x]['users']:\n",
    "            accounts.append(mems['screen_name'])\n",
    "    \n",
    "    return accounts\n"
   ]
  },
  {
   "cell_type": "code",
   "execution_count": 16,
   "metadata": {},
   "outputs": [],
   "source": [
    "def gettweets(target_user,party):\n",
    "    tweets = []\n",
    "\n",
    "    for x in range(1, 26):\n",
    "        try:\n",
    "            public_tweets = api.user_timeline(target_user, page=x, tweet_mode='extended')\n",
    "\n",
    "            for twt in public_tweets:\n",
    "                details = {}\n",
    "                details['created_at'] = twt['created_at']\n",
    "                details['screen_name'] = twt['screen_name']\n",
    "                details['text'] = twt['text']\n",
    "                details['full_text'] = twt['extended_tweet']['full_text']\n",
    "                details['party'] = party\n",
    "                tweets.append(details)\n",
    "        except:\n",
    "            print(f'Error processing tweet for {target_user}')\n",
    "            \n",
    "    return tweets"
   ]
  },
  {
   "cell_type": "code",
   "execution_count": 17,
   "metadata": {},
   "outputs": [],
   "source": [
    "def getalltweets(userlist, party):\n",
    "    tweetlist = []\n",
    "    for x in userlist:\n",
    "        tweetlist.append(gettweets(x,party))\n",
    "    \n",
    "    return tweetlist"
   ]
  },
  {
   "cell_type": "code",
   "execution_count": null,
   "metadata": {},
   "outputs": [],
   "source": [
    "house_dem_accounts = getaccounts('TheDemocrats', 'house-democrats',12)  \n",
    "house_gop_accounts = getaccounts('HouseGOP', 'house-republicans',12) \n",
    "    "
   ]
  },
  {
   "cell_type": "code",
   "execution_count": null,
   "metadata": {},
   "outputs": [
    {
     "name": "stdout",
     "output_type": "stream",
     "text": [
      "Error processing tweet for RepDarrenSoto\n",
      "Error processing tweet for RepDarrenSoto\n",
      "Error processing tweet for RepDarrenSoto\n",
      "Error processing tweet for RepDarrenSoto\n",
      "Error processing tweet for RepDarrenSoto\n",
      "Error processing tweet for RepDarrenSoto\n",
      "Error processing tweet for RepDarrenSoto\n",
      "Error processing tweet for RepDarrenSoto\n",
      "Error processing tweet for RepDarrenSoto\n",
      "Error processing tweet for RepDarrenSoto\n",
      "Error processing tweet for RepDarrenSoto\n",
      "Error processing tweet for RepDarrenSoto\n",
      "Error processing tweet for RepDarrenSoto\n",
      "Error processing tweet for RepDarrenSoto\n",
      "Error processing tweet for RepDarrenSoto\n",
      "Error processing tweet for RepDarrenSoto\n",
      "Error processing tweet for RepDarrenSoto\n",
      "Error processing tweet for RepDarrenSoto\n",
      "Error processing tweet for RepDarrenSoto\n",
      "Error processing tweet for RepDarrenSoto\n",
      "Error processing tweet for RepDarrenSoto\n",
      "Error processing tweet for RepDarrenSoto\n",
      "Error processing tweet for RepDarrenSoto\n",
      "Error processing tweet for RepDarrenSoto\n",
      "Error processing tweet for RepDarrenSoto\n",
      "Error processing tweet for RepJackyRosen\n",
      "Error processing tweet for RepJackyRosen\n",
      "Error processing tweet for RepJackyRosen\n",
      "Error processing tweet for RepJackyRosen\n",
      "Error processing tweet for RepJackyRosen\n",
      "Error processing tweet for RepJackyRosen\n",
      "Error processing tweet for RepJackyRosen\n",
      "Error processing tweet for RepJackyRosen\n",
      "Error processing tweet for RepJackyRosen\n",
      "Error processing tweet for RepJackyRosen\n",
      "Error processing tweet for RepJackyRosen\n",
      "Error processing tweet for RepJackyRosen\n",
      "Error processing tweet for RepJackyRosen\n",
      "Error processing tweet for RepJackyRosen\n",
      "Error processing tweet for RepJackyRosen\n",
      "Error processing tweet for RepJackyRosen\n",
      "Error processing tweet for RepJackyRosen\n",
      "Error processing tweet for RepJackyRosen\n",
      "Error processing tweet for RepJackyRosen\n",
      "Error processing tweet for RepJackyRosen\n",
      "Error processing tweet for RepJackyRosen\n",
      "Error processing tweet for RepJackyRosen\n",
      "Error processing tweet for RepJackyRosen\n",
      "Error processing tweet for RepJackyRosen\n",
      "Error processing tweet for RepJackyRosen\n",
      "Error processing tweet for RepAlLawsonJr\n",
      "Error processing tweet for RepAlLawsonJr\n",
      "Error processing tweet for RepAlLawsonJr\n",
      "Error processing tweet for RepAlLawsonJr\n",
      "Error processing tweet for RepAlLawsonJr\n",
      "Error processing tweet for RepAlLawsonJr\n",
      "Error processing tweet for RepAlLawsonJr\n",
      "Error processing tweet for RepAlLawsonJr\n",
      "Error processing tweet for RepAlLawsonJr\n",
      "Error processing tweet for RepAlLawsonJr\n",
      "Error processing tweet for RepAlLawsonJr\n",
      "Error processing tweet for RepAlLawsonJr\n",
      "Error processing tweet for RepAlLawsonJr\n",
      "Error processing tweet for RepAlLawsonJr\n",
      "Error processing tweet for RepAlLawsonJr\n",
      "Error processing tweet for RepAlLawsonJr\n",
      "Error processing tweet for RepAlLawsonJr\n",
      "Error processing tweet for RepAlLawsonJr\n",
      "Error processing tweet for RepAlLawsonJr\n",
      "Error processing tweet for RepAlLawsonJr\n",
      "Error processing tweet for RepAlLawsonJr\n",
      "Error processing tweet for RepAlLawsonJr\n",
      "Error processing tweet for RepAlLawsonJr\n",
      "Error processing tweet for RepAlLawsonJr\n",
      "Error processing tweet for RepAlLawsonJr\n",
      "Error processing tweet for RepEspaillat\n",
      "Error processing tweet for RepEspaillat\n",
      "Error processing tweet for RepEspaillat\n",
      "Error processing tweet for RepEspaillat\n",
      "Error processing tweet for RepEspaillat\n",
      "Error processing tweet for RepEspaillat\n",
      "Error processing tweet for RepEspaillat\n",
      "Error processing tweet for RepEspaillat\n",
      "Error processing tweet for RepEspaillat\n",
      "Error processing tweet for RepEspaillat\n",
      "Error processing tweet for RepEspaillat\n",
      "Error processing tweet for RepEspaillat\n",
      "Error processing tweet for RepEspaillat\n",
      "Error processing tweet for RepEspaillat\n",
      "Error processing tweet for RepEspaillat\n",
      "Error processing tweet for RepEspaillat\n",
      "Error processing tweet for RepEspaillat\n",
      "Error processing tweet for RepEspaillat\n",
      "Error processing tweet for RepEspaillat\n",
      "Error processing tweet for RepEspaillat\n",
      "Error processing tweet for RepEspaillat\n",
      "Error processing tweet for RepEspaillat\n",
      "Error processing tweet for RepEspaillat\n",
      "Error processing tweet for RepEspaillat\n",
      "Error processing tweet for RepEspaillat\n",
      "Error processing tweet for RepLBR\n",
      "Error processing tweet for RepLBR\n",
      "Error processing tweet for RepLBR\n",
      "Error processing tweet for RepLBR\n",
      "Error processing tweet for RepLBR\n",
      "Error processing tweet for RepLBR\n",
      "Error processing tweet for RepLBR\n",
      "Error processing tweet for RepLBR\n",
      "Error processing tweet for RepLBR\n",
      "Error processing tweet for RepLBR\n"
     ]
    }
   ],
   "source": [
    "dem_tweets = getalltweets(house_dem_accounts, 'democrats')\n",
    "       \n",
    "dem_tweets\n"
   ]
  },
  {
   "cell_type": "code",
   "execution_count": null,
   "metadata": {},
   "outputs": [],
   "source": []
  },
  {
   "cell_type": "code",
   "execution_count": 6,
   "metadata": {},
   "outputs": [
    {
     "data": {
      "text/plain": [
       "11"
      ]
     },
     "execution_count": 6,
     "metadata": {},
     "output_type": "execute_result"
    }
   ],
   "source": []
  },
  {
   "cell_type": "code",
   "execution_count": null,
   "metadata": {},
   "outputs": [],
   "source": [
    "#from bs4 import BeautifulSoup as bs\n",
    "#import re\n",
    "#import requests\n",
    "\n",
    "#html = requests.get('https://twitter.com/TheDemocrats/lists/house-democrats/members?lang=en')\n",
    "#soup = bs(html.text, 'html.parser')\n",
    "\n"
   ]
  },
  {
   "cell_type": "code",
   "execution_count": null,
   "metadata": {},
   "outputs": [],
   "source": [
    "#dem_accounts = soup.findAll('span',class_='u-textTruncate')\n",
    "#dem_accounts = soup.findAll('b')\n",
    "#lst=[]\n",
    "#for account in dem_accounts:\n",
    "#    if account.text not in lst:\n",
    "#        lst.append(account.text)\n",
    "\n",
    "#print(len(lst))"
   ]
  },
  {
   "cell_type": "code",
   "execution_count": null,
   "metadata": {},
   "outputs": [],
   "source": []
  }
 ],
 "metadata": {
  "kernelspec": {
   "display_name": "Python 3",
   "language": "python",
   "name": "python3"
  },
  "language_info": {
   "codemirror_mode": {
    "name": "ipython",
    "version": 3
   },
   "file_extension": ".py",
   "mimetype": "text/x-python",
   "name": "python",
   "nbconvert_exporter": "python",
   "pygments_lexer": "ipython3",
   "version": "3.6.5"
  }
 },
 "nbformat": 4,
 "nbformat_minor": 2
}
